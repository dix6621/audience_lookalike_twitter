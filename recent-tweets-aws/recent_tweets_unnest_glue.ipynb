{
	"cells": [
		{
			"cell_type": "markdown",
			"metadata": {
				"deletable": false,
				"editable": false,
				"trusted": true
			},
			"source": [
				"\n",
				"# Glue Studio Notebook\n",
				"You are now running a **Glue Studio** notebook; before you can start using your notebook you *must* start an interactive session.\n",
				"\n",
				"## Available Magics\n",
				"|          Magic              |   Type       |                                                                        Description                                                                        |\n",
				"|-----------------------------|--------------|-----------------------------------------------------------------------------------------------------------------------------------------------------------|\n",
				"| %%configure                 |  Dictionary  |  A json-formatted dictionary consisting of all configuration parameters for a session. Each parameter can be specified here or through individual magics. |\n",
				"| %profile                    |  String      |  Specify a profile in your aws configuration to use as the credentials provider.                                                                          |\n",
				"| %iam_role                   |  String      |  Specify an IAM role to execute your session with.                                                                                                        |\n",
				"| %region                     |  String      |  Specify the AWS region in which to initialize a session                                                                                                  |\n",
				"| %session_id                 |  String      |  Returns the session ID for the running session.                                                                                                          |\n",
				"| %connections                |  List        |  Specify a comma separated list of connections to use in the session.                                                                                     |\n",
				"| %additional_python_modules  |  List        |  Comma separated list of pip packages, s3 paths or private pip arguments.                                                                                 |\n",
				"| %extra_py_files             |  List        |  Comma separated list of additional Python files from S3.                                                                                                 |\n",
				"| %extra_jars                 |  List        |  Comma separated list of additional Jars to include in the cluster.                                                                                       |\n",
				"| %number_of_workers          |  Integer     |  The number of workers of a defined worker_type that are allocated when a job runs. worker_type must be set too.                                          |\n",
				"| %worker_type                |  String      |  Standard, G.1X, *or* G.2X. number_of_workers must be set too. Default is G.1X                                                                            |\n",
				"| %glue_version               |  String      |  The version of Glue to be used by this session. Currently, the only valid options are 2.0 and 3.0 (eg: %glue_version 2.0)                                |\n",
				"| %security_config            |  String      |  Define a security configuration to be used with this session.                                                                                            |\n",
				"| %sql                        |  String      |  Run SQL code. All lines after the initial %%sql magic will be passed as part of the SQL code.                                                            |\n",
				"| %streaming                  |  String      |  Changes the session type to Glue Streaming.                                                                                                              |\n",
				"| %etl                        |  String      |   Changes the session type to Glue ETL.                                                                                                                   |\n",
				"| %status                     |              |  Returns the status of the current Glue session including its duration, configuration and executing user / role.                                          |\n",
				"| %stop_session               |              |  Stops the current session.                                                                                                                               |\n",
				"| %list_sessions              |              |  Lists all currently running sessions by name and ID.                                                                                                     |\n",
				"| %spark_conf                 |  String      |  Specify custom spark configurations for your session. E.g. %spark_conf spark.serializer=org.apache.spark.serializer.KryoSerializer                       |"
			]
		},
		{
			"cell_type": "code",
			"execution_count": null,
			"metadata": {
				"editable": true,
				"trusted": true
			},
			"outputs": [],
			"source": [
				"import sys\n",
				"from awsglue.transforms import *\n",
				"from awsglue.utils import getResolvedOptions\n",
				"from pyspark.context import SparkContext\n",
				"from awsglue.context import GlueContext\n",
				"from awsglue.job import Job\n",
				"  \n",
				"sc = SparkContext.getOrCreate()\n",
				"glueContext = GlueContext(sc)\n",
				"spark = glueContext.spark_session\n",
				"job = Job(glueContext)"
			]
		},
		{
			"cell_type": "code",
			"execution_count": null,
			"metadata": {
				"trusted": true
			},
			"outputs": [],
			"source": [
				"from awsglue.dynamicframe import DynamicFrame\n",
				"import datetime\n",
				"from pyspark.sql.functions import regexp_replace"
			]
		},
		{
			"cell_type": "code",
			"execution_count": null,
			"metadata": {
				"trusted": true
			},
			"outputs": [],
			"source": [
				"end_date = datetime.date.today()\n",
				"# end_date_sat = f'{end_date}T00:00:00.000Z'\n",
				"# start_date = end_date - datetime.timedelta(days = 5)\n",
				"# start_date_mon = f'{start_date}T00:00:00.000Z'\n",
				"# prev_date = end_date - datetime.timedelta(days = 1)"
			]
		},
		{
			"cell_type": "code",
			"execution_count": null,
			"metadata": {
				"trusted": true
			},
			"outputs": [],
			"source": [
				"# Script generated for node Amazon S3\n",
				"recent_tweets_dyf = glueContext.create_dynamic_frame.from_options(\n",
				"    format_options={\"multiline\": False},\n",
				"    connection_type=\"s3\",\n",
				"    format=\"json\",\n",
				"    connection_options={\n",
				"        \"paths\": [f\"s3://dataspartan-test-bucket/twitter-analytics/raw-data/recent-tweets/results/twitter_recent_tweets_{end_date}.json\"],\n",
				"        \"recurse\": False,\n",
				"    },\n",
				")"
			]
		},
		{
			"cell_type": "code",
			"execution_count": null,
			"metadata": {
				"trusted": true
			},
			"outputs": [],
			"source": [
				"recent_tweets_dyfc = recent_tweets_dyf.relationalize(\"root\", \"s3://dataspartan-test-bucket/unspecified/temp-dir/\")"
			]
		},
		{
			"cell_type": "code",
			"execution_count": null,
			"metadata": {
				"trusted": true
			},
			"outputs": [],
			"source": [
				"# recent_tweets_dyfc.keys()"
			]
		},
		{
			"cell_type": "code",
			"execution_count": null,
			"metadata": {
				"trusted": true
			},
			"outputs": [],
			"source": [
				"# recent_tweets_dyfc.select('root_recent_tweets.val.entities.hashtags').toDF().show(1)"
			]
		},
		{
			"cell_type": "code",
			"execution_count": null,
			"metadata": {
				"trusted": true
			},
			"outputs": [],
			"source": [
				"recent_tweets_dyf_root_recent_tweets = recent_tweets_dyfc.select('root_recent_tweets')"
			]
		},
		{
			"cell_type": "code",
			"execution_count": null,
			"metadata": {
				"trusted": true
			},
			"outputs": [],
			"source": [
				"# Look into how to handle text\n",
				"# possible solutions:\n",
				"# https://docs.aws.amazon.com/athena/latest/ug/csv-serde.html\n",
				"# https://docs.aws.amazon.com/athena/latest/ug/glue-best-practices.html#schema-crawlers\n",
				"recent_tweets_dyf_root_recent_tweets_drop = recent_tweets_dyf_root_recent_tweets.toDF().drop('recent_tweets.val.text')"
			]
		},
		{
			"cell_type": "code",
			"execution_count": null,
			"metadata": {
				"trusted": true
			},
			"outputs": [],
			"source": [
				"recent_tweets_dyf_root_recent_tweets_drop = recent_tweets_dyf_root_recent_tweets_drop.withColumn(\"recent_tweets.val.created_at\", regexp_replace('`recent_tweets.val.created_at`', 'T', ' '))\n",
				"recent_tweets_dyf_root_recent_tweets_drop = recent_tweets_dyf_root_recent_tweets_drop.withColumn(\"recent_tweets.val.created_at\", regexp_replace('`recent_tweets.val.created_at`', '.000Z', ''))"
			]
		},
		{
			"cell_type": "code",
			"execution_count": null,
			"metadata": {
				"trusted": true
			},
			"outputs": [],
			"source": [
				"#https://medium.com/geekculture/aws-glue-simple-job-to-write-part-csv-files-to-a-single-file-d805eddbe641\n",
				"recent_tweets_dyf_root_recent_tweets_drop.repartition(1).write.mode('overwrite').csv(f's3://dataspartan-test-bucket/twitter-analytics/raw-data/recent-tweets/unnested/dump/root_recent_tweets_{end_date}',header = 'true')"
			]
		},
		{
			"cell_type": "code",
			"execution_count": null,
			"metadata": {
				"trusted": true
			},
			"outputs": [],
			"source": [
				"import boto3\n",
				"client = boto3.client('s3')\n",
				"BUCKET_NAME= 'dataspartan-test-bucket'\n",
				"PREFIX_start ='twitter-analytics/raw-data/recent-tweets/unnested/'\n",
				"PREFIX_end =f'/root_recent_tweets_{end_date}'\n",
				"response = client.list_objects(\n",
				"    Bucket=BUCKET_NAME, Prefix=PREFIX_start+'dump'+PREFIX_end,)\n",
				"#Helps to fetch the file name of the file created in this glue job\n",
				"name = response['Contents'][0]['Key']\n",
				"client.copy_object(Bucket=BUCKET_NAME, \n",
				"#The csv file generated can be renamed with a name as desired !\n",
				"CopySource=BUCKET_NAME+'/'+name, Key=PREFIX_start+f'root_recent_tweets/recent_tweets_single_file.csv')\n",
				"# client.delete_object(Bucket=BUCKET_NAME ,Key=name)"
			]
		},
		{
			"cell_type": "code",
			"execution_count": null,
			"metadata": {
				"trusted": true
			},
			"outputs": [],
			"source": [
				"recent_tweets_dyf_val_entities_mentions = recent_tweets_dyfc.select('root_recent_tweets.val.entities.mentions')"
			]
		},
		{
			"cell_type": "code",
			"execution_count": null,
			"metadata": {
				"trusted": true
			},
			"outputs": [],
			"source": [
				"#https://medium.com/geekculture/aws-glue-simple-job-to-write-part-csv-files-to-a-single-file-d805eddbe641\n",
				"recent_tweets_dyf_val_entities_mentions.toDF().repartition(1).write.mode('overwrite').csv(f's3://dataspartan-test-bucket/twitter-analytics/raw-data/recent-tweets/unnested/dump/val_entities_mentions_{end_date}',header = 'true')"
			]
		},
		{
			"cell_type": "code",
			"execution_count": null,
			"metadata": {
				"trusted": true
			},
			"outputs": [],
			"source": [
				"BUCKET_NAME= 'dataspartan-test-bucket'\n",
				"PREFIX_start ='twitter-analytics/raw-data/recent-tweets/unnested/'\n",
				"PREFIX_end =f'/val_entities_mentions_{end_date}'\n",
				"response = client.list_objects(\n",
				"    Bucket=BUCKET_NAME, Prefix=PREFIX_start+'dump'+PREFIX_end,)\n",
				"#Helps to fetch the file name of the file created in this glue job\n",
				"name = response['Contents'][0]['Key']\n",
				"client.copy_object(Bucket=BUCKET_NAME, \n",
				"#The csv file generated can be renamed with a name as desired !\n",
				"CopySource=BUCKET_NAME+'/'+name, Key=PREFIX_start+f'val_entities_mentions/entities_mentions_single_file.csv')\n",
				"# client.delete_object(Bucket=BUCKET_NAME ,Key=name)"
			]
		},
		{
			"cell_type": "code",
			"execution_count": null,
			"metadata": {
				"trusted": true
			},
			"outputs": [],
			"source": [
				"recent_tweets_dyf_val_entities_hashtags = recent_tweets_dyfc.select('root_recent_tweets.val.entities.hashtags')"
			]
		},
		{
			"cell_type": "code",
			"execution_count": null,
			"metadata": {
				"trusted": true
			},
			"outputs": [],
			"source": [
				"#https://medium.com/geekculture/aws-glue-simple-job-to-write-part-csv-files-to-a-single-file-d805eddbe641\n",
				"recent_tweets_dyf_val_entities_hashtags.toDF().repartition(1).write.mode('overwrite').csv(f's3://dataspartan-test-bucket/twitter-analytics/raw-data/recent-tweets/unnested/dump/val_entities_hashtags_{end_date}',header = 'true')"
			]
		},
		{
			"cell_type": "code",
			"execution_count": null,
			"metadata": {
				"trusted": true
			},
			"outputs": [],
			"source": [
				"BUCKET_NAME= 'dataspartan-test-bucket'\n",
				"PREFIX_start ='twitter-analytics/raw-data/recent-tweets/unnested/'\n",
				"PREFIX_end =f'/val_entities_hashtags_{end_date}'\n",
				"response = client.list_objects(\n",
				"    Bucket=BUCKET_NAME, Prefix=PREFIX_start+'dump'+PREFIX_end,)\n",
				"#Helps to fetch the file name of the file created in this glue job\n",
				"name = response['Contents'][0]['Key']\n",
				"client.copy_object(Bucket=BUCKET_NAME, \n",
				"#The csv file generated can be renamed with a name as desired !\n",
				"CopySource=BUCKET_NAME+'/'+name, Key=PREFIX_start+f'val_entities_hashtags/entities_hashtags_single_file.csv')\n",
				"# client.delete_object(Bucket=BUCKET_NAME ,Key=name)"
			]
		},
		{
			"cell_type": "code",
			"execution_count": null,
			"metadata": {},
			"outputs": [],
			"source": []
		}
	],
	"metadata": {
		"kernelspec": {
			"display_name": "Python 3.10.5 ('lfb_spartan')",
			"language": "python",
			"name": "python3"
		},
		"language_info": {
			"codemirror_mode": {
				"name": "python",
				"version": 3
			},
			"file_extension": ".py",
			"mimetype": "text/x-python",
			"name": "python",
			"pygments_lexer": "python3",
			"version": "3.10.5"
		},
		"vscode": {
			"interpreter": {
				"hash": "1760b9e0dee9eced2372190870f340939ddc88a195c9cdd127b7c20b118d7257"
			}
		}
	},
	"nbformat": 4,
	"nbformat_minor": 4
}
