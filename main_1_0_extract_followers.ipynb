{
 "cells": [
  {
   "cell_type": "code",
   "execution_count": 1,
   "metadata": {},
   "outputs": [
    {
     "name": "stdout",
     "output_type": "stream",
     "text": [
      "0 - GMX_IO\n"
     ]
    }
   ],
   "source": [
    "\n",
    "import pandas as pd\n",
    "import datetime\n",
    "import time\n",
    "import json\n",
    "import functions_twitter\n",
    "\n",
    "# Read input.csv with interested twitter_username.\n",
    "users_data_df = pd.read_csv(f'output_0/twitter_summary.tsv', sep = '\\t', usecols = ['username', 'id', 'public_metrics.followers_count'])\n",
    "\n",
    "# Read list of secrets. Due to rate limit, multiple twitter developer accounts are recommended.\n",
    "secrets_pool = pd.read_csv('twitter_dev_secrets.csv', index_col = False)\n",
    "bearer_tokens = list(secrets_pool['bearer_token'])\n",
    "\n",
    "# Filter twitter_usernames with non-zero followers_count\n",
    "users_data_df_nonzero = users_data_df[(users_data_df['public_metrics.followers_count'] > 0)]\n",
    "\n",
    "# Rank twitter_usernams by followers_count in descending order\n",
    "users_data_df_nonzero.sort_values('public_metrics.followers_count', ascending = True, inplace = True)\n",
    "users_data_df_nonzero.reset_index(drop=True, inplace=True)\n",
    "\n",
    "# Calculate total users and followers included in analysis\n",
    "total_users_count = len(users_data_df_nonzero)\n",
    "total_followers = users_data_df_nonzero['public_metrics.followers_count'].sum()\n",
    "\n",
    "total_bearer_token_count = min(20, len(bearer_tokens)) # Max cap is at 20 bearer_tokens\n",
    "request_left = 15 # Request limit for GET /2/users/:id/followers is 15 requests per 15-minute window (app auth)\n",
    "followers_per_batch = 1000 # per 15minutes\n",
    "rate_of_req_hrly = total_bearer_token_count*request_left*followers_per_batch*4\n",
    "\n",
    "est_time_req_hr = total_followers/rate_of_req_hrly\n",
    "\n",
    "text = f\"Total number of Twitter Developer Accounts = {total_bearer_token_count}\\nTotal number of Twitter Usernames = {total_users_count}\\nTotal number of Followers = {total_followers}\\nEstimated time required for analysis = {est_time_req_hr:.2f} hrs\"\n",
    "#open text file\n",
    "text_file = open(f\"output_0/analytics_notice.txt\", \"w\")\n",
    "#write string to file\n",
    "text_file.write(text)\n",
    "#close file\n",
    "text_file.close()\n",
    "\n",
    "bearer_tokens_catridge = bearer_tokens.copy()\n",
    "bearer_token = bearer_tokens_catridge.pop(0)\n",
    "# request_left = 15 # Request limit for GET /2/users/:id/followers is 15 requests per 15-minute window (app auth)\n",
    "rate_limit_reset_time = time.mktime(datetime.datetime.now().timetuple()) + 1000 # timestamp when bearer_token_catridge restarted\n",
    "\n",
    "users_followers = []\n",
    "error_log = []\n",
    "\n",
    "for index, row in users_data_df_nonzero.iterrows():\n",
    "    user_followers = []\n",
    "    origin_id = row['id']\n",
    "    origin_username = row['username']\n",
    "    nxt_page = True\n",
    "    nxt_token = ''\n",
    "    while nxt_page:\n",
    "        print(f'{index} - {origin_username} | {len(bearer_tokens_catridge)} - {request_left}')\n",
    "        if request_left > 0:\n",
    "            request, request_left = functions_twitter.twitter_get_followers_by_users(origin_id, nxt_token, bearer_token)\n",
    "            if request.status_code == 200:\n",
    "                try:\n",
    "                    request_json = request.json()\n",
    "                    user_followers += request_json['data']\n",
    "                    request_meta = request_json['meta']\n",
    "                    if 'next_token' in request_meta.keys(): # There are more followers under username\n",
    "                        nxt_page = True # Continue with while loop\n",
    "                        nxt_token = f'&pagination_token={request_meta[\"next_token\"]}' # Save pagination token\n",
    "                    else:\n",
    "                        nxt_page = False # Stop iteration of current username\n",
    "                except KeyError:\n",
    "                    print(f'{origin_username} - Might be a private account. No access allowed.')\n",
    "                    error_detail = {'error' : f'Might be a private account. No access allowed.', 'username' : origin_username}\n",
    "                    error_log.append(error_detail)\n",
    "                    nxt_page = False # Stop iteration of current username\n",
    "            else: # Requests failed. Did not get full list of followers of username\n",
    "                print(f'{origin_username} - Incomplete run. Did not finish extracting all followers')\n",
    "                error_detail = {'error' : f'Incomplete run. Did not finish extracting all followers', 'username' : origin_username}\n",
    "                error_log.append(error_detail)\n",
    "                nxt_page = False # Stop iteration of current username\n",
    "        else:\n",
    "            request_reset_unixtime = float(request.headers['x-rate-limit-reset']) # timestamp when the request limit for bearer token is expected to reset.\n",
    "            rate_limit_reset_time = min(request_reset_unixtime,rate_limit_reset_time)\n",
    "            bearer_tokens_catridge, bearer_token, request_left, rate_limit_reset_time = functions_twitter.catridge_reset(rate_limit_reset_time, bearer_tokens_catridge, bearer_tokens, 15)\n",
    "    if len(user_followers) == 0:\n",
    "        continue\n",
    "    else:\n",
    "        user_followers = [dict(item, **{'origin_username':origin_username}) for item in user_followers]\n",
    "        users_followers += user_followers\n",
    "\n",
    "users_followers_df = pd.DataFrame(users_followers)\n",
    "users_followers_df.to_csv('output_0/users_followers_df.csv')\n",
    "\n",
    "error_log_df = pd.DataFrame(error_log)\n",
    "error_log_df.to_csv('output_0/error_log_df.csv')"
   ]
  },
  {
   "cell_type": "code",
   "execution_count": null,
   "metadata": {},
   "outputs": [],
   "source": []
  }
 ],
 "metadata": {
  "kernelspec": {
   "display_name": "Python 3.10.5 ('lfb_spartan')",
   "language": "python",
   "name": "python3"
  },
  "language_info": {
   "codemirror_mode": {
    "name": "ipython",
    "version": 3
   },
   "file_extension": ".py",
   "mimetype": "text/x-python",
   "name": "python",
   "nbconvert_exporter": "python",
   "pygments_lexer": "ipython3",
   "version": "3.10.5"
  },
  "orig_nbformat": 4,
  "vscode": {
   "interpreter": {
    "hash": "1760b9e0dee9eced2372190870f340939ddc88a195c9cdd127b7c20b118d7257"
   }
  }
 },
 "nbformat": 4,
 "nbformat_minor": 2
}
